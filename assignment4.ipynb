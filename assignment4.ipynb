{
 "cells": [
  {
   "cell_type": "markdown",
   "metadata": {},
   "source": [
    "# Assignment #4: Linear Models and Decision Trees\n",
    "## Foundations of Machine Learning\n",
    "## Do Q1 and one other question.\n",
    "### Advice: Reuse your code and code from lectures, package routine tasks into functions, make plans about how you'll carry out the analysis before jumping into writing code, and work as efficiently as possible"
   ]
  },
  {
   "cell_type": "markdown",
   "metadata": {},
   "source": [
    "**Q1.** This question is a case study for linear models and decision trees. The data are about car prices. In particular, they include:\n",
    "\n",
    "  - `Price`, `Color`, `Seating_Capacity`\n",
    "  - `Body_Type`: crossover, hatchback, muv, sedan, suv \n",
    "  - `Make`, `Make_Year`: The brand of car and year produced\n",
    "  - `Mileage_Run`: The number of miles on the odometer\n",
    "  - `Fuel_Type`: Diesel or gasoline/petrol\n",
    "  - `Transmission`, `Transmission_Type`:  speeds and automatic/manual\n",
    "\n",
    "  1. Load `cars_hw.csv`. These data were really dirty, and I've already cleaned them a significant amount in terms of missing values and other issues, but some issues remain (e.g. outliers, badly scaled variables that require a log or arcsinh transformation). Clean the data however you think is most appropriate.\n",
    "  2. Summarize the `Price` variable and create a kernel density plot. Use `.groupby()` and `.describe()` to summarize prices by brand (`Make`). Make a grouped kernel density plot by `Make`. Which car brands are the most expensive? What do prices look like in general?\n",
    "  3. Split the data into an 80% training set and a 20% testing set.\n",
    "  4. Let's focus on linear models. Make a model where you regress price on the numeric variables alone; what is the $R^2$ and `RMSE` on the test set? Make a second model where, for the categorical variables, make a model comprised of one-hot encoded regressors/features alone, and regress price on those variables; what is the $R^2$ and `RMSE` on the test set? Which model performs better on the test set? Make a third model that combines all the regressors from the previous two; what is the $R^2$ and `RMSE` on the test set? Does the joint model perform better or worse, and by home much?\n",
    "  5. Use the `PolynomialFeatures` function from `sklearn` to expand the set of numerical variables you're using, along with the categorical variables. As you increase the degree of the expansion, how do the $R^2$ and `RMSE` change? At what point does $R^2$ go negative on the test set? For your best model with expanded features, what is the $R^2$ and `RMSE`? How does it compare to your best model from part 3?\n",
    "  6. For your best model so far, determine the predicted values for the test data and plot them against the true values. Do the predicted values and true values roughly line up along the diagonal, or not? Compute the residuals/errors for the test data and create a kernel density plot. Do the residuals look roughly bell-shaped around zero? Evaluate the strengths and weaknesses of your model.\n",
    "  7. Now, let's use a regression tree. Construct an appropriate matrix of regressors/features, and fit a tree to the data. Vary the maximum depth of the decision tree using the `max_depth` option (i.e. `tree.DecisionTreeRegressor(max_depth=D)`), and compute the $R^2$ and `RMSE` on the test set of a variety of depths. What depth tree gives the best results?\n",
    "  8. For your best tree, determine the predicted values for the test data, and plot them against the true values. Do the predicted values and true values line up along the diagonal, or not? Compute the residuals/errors for the test data and create a kernel density plot. Do the residuals look roughly bell-shaped around zero?\n",
    "  12. Which model --- linear model or classification and regression tree --- has better performance on the test set?"
   ]
  },
  {
   "cell_type": "code",
   "execution_count": 1,
   "metadata": {},
   "outputs": [],
   "source": [
    "import pandas as pd\n",
    "import numpy as np\n",
    "import matplotlib.pyplot as plt\n",
    "import seaborn as sns"
   ]
  },
  {
   "cell_type": "code",
   "execution_count": 2,
   "metadata": {},
   "outputs": [],
   "source": [
    "# 1. Load and clean data where necessary \n",
    "df = pd.read_csv('./data/cars_hw.csv')"
   ]
  },
  {
   "cell_type": "code",
   "execution_count": 3,
   "metadata": {},
   "outputs": [
    {
     "data": {
      "text/html": [
       "<div>\n",
       "<style scoped>\n",
       "    .dataframe tbody tr th:only-of-type {\n",
       "        vertical-align: middle;\n",
       "    }\n",
       "\n",
       "    .dataframe tbody tr th {\n",
       "        vertical-align: top;\n",
       "    }\n",
       "\n",
       "    .dataframe thead th {\n",
       "        text-align: right;\n",
       "    }\n",
       "</style>\n",
       "<table border=\"1\" class=\"dataframe\">\n",
       "  <thead>\n",
       "    <tr style=\"text-align: right;\">\n",
       "      <th></th>\n",
       "      <th>Unnamed: 0</th>\n",
       "      <th>Make</th>\n",
       "      <th>Make_Year</th>\n",
       "      <th>Color</th>\n",
       "      <th>Body_Type</th>\n",
       "      <th>Mileage_Run</th>\n",
       "      <th>No_of_Owners</th>\n",
       "      <th>Seating_Capacity</th>\n",
       "      <th>Fuel_Type</th>\n",
       "      <th>Transmission</th>\n",
       "      <th>Transmission_Type</th>\n",
       "      <th>Price</th>\n",
       "    </tr>\n",
       "  </thead>\n",
       "  <tbody>\n",
       "    <tr>\n",
       "      <th>0</th>\n",
       "      <td>1</td>\n",
       "      <td>Volkswagen</td>\n",
       "      <td>2017</td>\n",
       "      <td>silver</td>\n",
       "      <td>sedan</td>\n",
       "      <td>44611</td>\n",
       "      <td>1st</td>\n",
       "      <td>5</td>\n",
       "      <td>diesel</td>\n",
       "      <td>7-Speed</td>\n",
       "      <td>Automatic</td>\n",
       "      <td>657000</td>\n",
       "    </tr>\n",
       "    <tr>\n",
       "      <th>1</th>\n",
       "      <td>2</td>\n",
       "      <td>Hyundai</td>\n",
       "      <td>2016</td>\n",
       "      <td>red</td>\n",
       "      <td>crossover</td>\n",
       "      <td>20305</td>\n",
       "      <td>1st</td>\n",
       "      <td>5</td>\n",
       "      <td>petrol</td>\n",
       "      <td>5-Speed</td>\n",
       "      <td>Manual</td>\n",
       "      <td>682000</td>\n",
       "    </tr>\n",
       "    <tr>\n",
       "      <th>2</th>\n",
       "      <td>3</td>\n",
       "      <td>Honda</td>\n",
       "      <td>2019</td>\n",
       "      <td>white</td>\n",
       "      <td>suv</td>\n",
       "      <td>29540</td>\n",
       "      <td>2nd</td>\n",
       "      <td>5</td>\n",
       "      <td>petrol</td>\n",
       "      <td>5-Speed</td>\n",
       "      <td>Manual</td>\n",
       "      <td>793000</td>\n",
       "    </tr>\n",
       "    <tr>\n",
       "      <th>3</th>\n",
       "      <td>4</td>\n",
       "      <td>Renault</td>\n",
       "      <td>2017</td>\n",
       "      <td>bronze</td>\n",
       "      <td>hatchback</td>\n",
       "      <td>35680</td>\n",
       "      <td>1st</td>\n",
       "      <td>5</td>\n",
       "      <td>petrol</td>\n",
       "      <td>5-Speed</td>\n",
       "      <td>Manual</td>\n",
       "      <td>414000</td>\n",
       "    </tr>\n",
       "    <tr>\n",
       "      <th>4</th>\n",
       "      <td>5</td>\n",
       "      <td>Hyundai</td>\n",
       "      <td>2017</td>\n",
       "      <td>orange</td>\n",
       "      <td>hatchback</td>\n",
       "      <td>25126</td>\n",
       "      <td>1st</td>\n",
       "      <td>5</td>\n",
       "      <td>petrol</td>\n",
       "      <td>5-Speed</td>\n",
       "      <td>Manual</td>\n",
       "      <td>515000</td>\n",
       "    </tr>\n",
       "  </tbody>\n",
       "</table>\n",
       "</div>"
      ],
      "text/plain": [
       "   Unnamed: 0        Make  Make_Year   Color  Body_Type  Mileage_Run  \\\n",
       "0           1  Volkswagen       2017  silver      sedan        44611   \n",
       "1           2     Hyundai       2016     red  crossover        20305   \n",
       "2           3       Honda       2019   white        suv        29540   \n",
       "3           4     Renault       2017  bronze  hatchback        35680   \n",
       "4           5     Hyundai       2017  orange  hatchback        25126   \n",
       "\n",
       "  No_of_Owners  Seating_Capacity Fuel_Type Transmission Transmission_Type  \\\n",
       "0          1st                 5    diesel      7-Speed         Automatic   \n",
       "1          1st                 5    petrol      5-Speed            Manual   \n",
       "2          2nd                 5    petrol      5-Speed            Manual   \n",
       "3          1st                 5    petrol      5-Speed            Manual   \n",
       "4          1st                 5    petrol      5-Speed            Manual   \n",
       "\n",
       "    Price  \n",
       "0  657000  \n",
       "1  682000  \n",
       "2  793000  \n",
       "3  414000  \n",
       "4  515000  "
      ]
     },
     "execution_count": 3,
     "metadata": {},
     "output_type": "execute_result"
    }
   ],
   "source": [
    "df.head()"
   ]
  },
  {
   "cell_type": "code",
   "execution_count": 4,
   "metadata": {},
   "outputs": [
    {
     "data": {
      "text/plain": [
       "['1st', '2nd', '3rd']"
      ]
     },
     "execution_count": 4,
     "metadata": {},
     "output_type": "execute_result"
    }
   ],
   "source": [
    "df['No_of_Owners'].unique().tolist() #checking unique values to clean "
   ]
  },
  {
   "cell_type": "code",
   "execution_count": 5,
   "metadata": {},
   "outputs": [
    {
     "data": {
      "text/plain": [
       "['7-Speed', '5-Speed', '6-Speed', 'CVT', '4-Speed']"
      ]
     },
     "execution_count": 5,
     "metadata": {},
     "output_type": "execute_result"
    }
   ],
   "source": [
    "df['Transmission'].unique().tolist() #checking to see if the values can be transformed"
   ]
  },
  {
   "cell_type": "code",
   "execution_count": 6,
   "metadata": {},
   "outputs": [
    {
     "data": {
      "text/html": [
       "<div>\n",
       "<style scoped>\n",
       "    .dataframe tbody tr th:only-of-type {\n",
       "        vertical-align: middle;\n",
       "    }\n",
       "\n",
       "    .dataframe tbody tr th {\n",
       "        vertical-align: top;\n",
       "    }\n",
       "\n",
       "    .dataframe thead th {\n",
       "        text-align: right;\n",
       "    }\n",
       "</style>\n",
       "<table border=\"1\" class=\"dataframe\">\n",
       "  <thead>\n",
       "    <tr style=\"text-align: right;\">\n",
       "      <th></th>\n",
       "      <th>Unnamed: 0</th>\n",
       "      <th>Make_Year</th>\n",
       "      <th>Mileage_Run</th>\n",
       "      <th>Seating_Capacity</th>\n",
       "      <th>Price</th>\n",
       "    </tr>\n",
       "  </thead>\n",
       "  <tbody>\n",
       "    <tr>\n",
       "      <th>count</th>\n",
       "      <td>976.000000</td>\n",
       "      <td>976.000000</td>\n",
       "      <td>976.000000</td>\n",
       "      <td>976.000000</td>\n",
       "      <td>9.760000e+02</td>\n",
       "    </tr>\n",
       "    <tr>\n",
       "      <th>mean</th>\n",
       "      <td>488.500000</td>\n",
       "      <td>2016.963115</td>\n",
       "      <td>41571.195697</td>\n",
       "      <td>5.095287</td>\n",
       "      <td>7.410195e+05</td>\n",
       "    </tr>\n",
       "    <tr>\n",
       "      <th>std</th>\n",
       "      <td>281.891232</td>\n",
       "      <td>2.818742</td>\n",
       "      <td>24390.995134</td>\n",
       "      <td>0.446224</td>\n",
       "      <td>3.673234e+05</td>\n",
       "    </tr>\n",
       "    <tr>\n",
       "      <th>min</th>\n",
       "      <td>1.000000</td>\n",
       "      <td>2011.000000</td>\n",
       "      <td>1117.000000</td>\n",
       "      <td>4.000000</td>\n",
       "      <td>1.880000e+05</td>\n",
       "    </tr>\n",
       "    <tr>\n",
       "      <th>25%</th>\n",
       "      <td>244.750000</td>\n",
       "      <td>2015.000000</td>\n",
       "      <td>22676.750000</td>\n",
       "      <td>5.000000</td>\n",
       "      <td>4.757500e+05</td>\n",
       "    </tr>\n",
       "    <tr>\n",
       "      <th>50%</th>\n",
       "      <td>488.500000</td>\n",
       "      <td>2017.000000</td>\n",
       "      <td>37570.500000</td>\n",
       "      <td>5.000000</td>\n",
       "      <td>6.665000e+05</td>\n",
       "    </tr>\n",
       "    <tr>\n",
       "      <th>75%</th>\n",
       "      <td>732.250000</td>\n",
       "      <td>2019.000000</td>\n",
       "      <td>57421.250000</td>\n",
       "      <td>5.000000</td>\n",
       "      <td>8.830000e+05</td>\n",
       "    </tr>\n",
       "    <tr>\n",
       "      <th>max</th>\n",
       "      <td>976.000000</td>\n",
       "      <td>2022.000000</td>\n",
       "      <td>99495.000000</td>\n",
       "      <td>8.000000</td>\n",
       "      <td>2.941000e+06</td>\n",
       "    </tr>\n",
       "  </tbody>\n",
       "</table>\n",
       "</div>"
      ],
      "text/plain": [
       "       Unnamed: 0    Make_Year   Mileage_Run  Seating_Capacity         Price\n",
       "count  976.000000   976.000000    976.000000        976.000000  9.760000e+02\n",
       "mean   488.500000  2016.963115  41571.195697          5.095287  7.410195e+05\n",
       "std    281.891232     2.818742  24390.995134          0.446224  3.673234e+05\n",
       "min      1.000000  2011.000000   1117.000000          4.000000  1.880000e+05\n",
       "25%    244.750000  2015.000000  22676.750000          5.000000  4.757500e+05\n",
       "50%    488.500000  2017.000000  37570.500000          5.000000  6.665000e+05\n",
       "75%    732.250000  2019.000000  57421.250000          5.000000  8.830000e+05\n",
       "max    976.000000  2022.000000  99495.000000          8.000000  2.941000e+06"
      ]
     },
     "execution_count": 6,
     "metadata": {},
     "output_type": "execute_result"
    }
   ],
   "source": [
    "df.describe()"
   ]
  },
  {
   "cell_type": "code",
   "execution_count": 7,
   "metadata": {},
   "outputs": [
    {
     "name": "stderr",
     "output_type": "stream",
     "text": [
      "/apps/software/standard/compiler/gcc/9.2.0/jupyter_conda/2020.11-py3.8/lib/python3.8/site-packages/seaborn/_decorators.py:36: FutureWarning: Pass the following variable as a keyword arg: x. From version 0.12, the only valid positional argument will be `data`, and passing other arguments without an explicit keyword will result in an error or misinterpretation.\n",
      "  warnings.warn(\n"
     ]
    },
    {
     "data": {
      "text/plain": [
       "<AxesSubplot:xlabel='Price'>"
      ]
     },
     "execution_count": 7,
     "metadata": {},
     "output_type": "execute_result"
    },
    {
     "data": {
      "image/png": "[encoded data removed]",
      "text/plain": [
       "<Figure size 432x288 with 1 Axes>"
      ]
     },
     "metadata": {
      "needs_background": "light"
     },
     "output_type": "display_data"
    }
   ],
   "source": [
    "# seeing outliers for price variable\n",
    "sns.boxplot(df['Price'])"
   ]
  },
  {
   "cell_type": "code",
   "execution_count": 8,
   "metadata": {},
   "outputs": [
    {
     "name": "stderr",
     "output_type": "stream",
     "text": [
      "/apps/software/standard/compiler/gcc/9.2.0/jupyter_conda/2020.11-py3.8/lib/python3.8/site-packages/seaborn/_decorators.py:36: FutureWarning: Pass the following variable as a keyword arg: x. From version 0.12, the only valid positional argument will be `data`, and passing other arguments without an explicit keyword will result in an error or misinterpretation.\n",
      "  warnings.warn(\n"
     ]
    },
    {
     "data": {
      "text/plain": [
       "<AxesSubplot:xlabel='Mileage_Run'>"
      ]
     },
     "execution_count": 8,
     "metadata": {},
     "output_type": "execute_result"
    },
    {
     "data": {
      "image/png": "[encoded data removed]",
      "text/plain": [
       "<Figure size 432x288 with 1 Axes>"
      ]
     },
     "metadata": {
      "needs_background": "light"
     },
     "output_type": "display_data"
    }
   ],
   "source": [
    "# looking at outliers for mileage\n",
    "sns.boxplot(df['Mileage_Run'])"
   ]
  },
  {
   "cell_type": "markdown",
   "metadata": {},
   "source": [
    "There are a lot of outliers on the high end of the price variable, so I will create a new variable that takes the arcsin in order to more accurately find patterns in the data that are not influenced so strongly by the outliers. No visible outliers for the mileage variable but I will still transform the data so the values are comparable.  "
   ]
  },
  {
   "cell_type": "code",
   "execution_count": 9,
   "metadata": {},
   "outputs": [
    {
     "data": {
      "text/html": [
       "<div>\n",
       "<style scoped>\n",
       "    .dataframe tbody tr th:only-of-type {\n",
       "        vertical-align: middle;\n",
       "    }\n",
       "\n",
       "    .dataframe tbody tr th {\n",
       "        vertical-align: top;\n",
       "    }\n",
       "\n",
       "    .dataframe thead th {\n",
       "        text-align: right;\n",
       "    }\n",
       "</style>\n",
       "<table border=\"1\" class=\"dataframe\">\n",
       "  <thead>\n",
       "    <tr style=\"text-align: right;\">\n",
       "      <th></th>\n",
       "      <th>Unnamed: 0</th>\n",
       "      <th>Make_Year</th>\n",
       "      <th>Mileage_Run</th>\n",
       "      <th>Seating_Capacity</th>\n",
       "      <th>Price</th>\n",
       "      <th>new_price</th>\n",
       "      <th>new_mileage</th>\n",
       "    </tr>\n",
       "  </thead>\n",
       "  <tbody>\n",
       "    <tr>\n",
       "      <th>count</th>\n",
       "      <td>976.000000</td>\n",
       "      <td>976.000000</td>\n",
       "      <td>976.000000</td>\n",
       "      <td>976.000000</td>\n",
       "      <td>9.760000e+02</td>\n",
       "      <td>976.000000</td>\n",
       "      <td>976.000000</td>\n",
       "    </tr>\n",
       "    <tr>\n",
       "      <th>mean</th>\n",
       "      <td>488.500000</td>\n",
       "      <td>2016.963115</td>\n",
       "      <td>41571.195697</td>\n",
       "      <td>5.095287</td>\n",
       "      <td>7.410195e+05</td>\n",
       "      <td>14.104181</td>\n",
       "      <td>11.109435</td>\n",
       "    </tr>\n",
       "    <tr>\n",
       "      <th>std</th>\n",
       "      <td>281.891232</td>\n",
       "      <td>2.818742</td>\n",
       "      <td>24390.995134</td>\n",
       "      <td>0.446224</td>\n",
       "      <td>3.673234e+05</td>\n",
       "      <td>0.450276</td>\n",
       "      <td>0.733389</td>\n",
       "    </tr>\n",
       "    <tr>\n",
       "      <th>min</th>\n",
       "      <td>1.000000</td>\n",
       "      <td>2011.000000</td>\n",
       "      <td>1117.000000</td>\n",
       "      <td>4.000000</td>\n",
       "      <td>1.880000e+05</td>\n",
       "      <td>12.837344</td>\n",
       "      <td>7.711549</td>\n",
       "    </tr>\n",
       "    <tr>\n",
       "      <th>25%</th>\n",
       "      <td>244.750000</td>\n",
       "      <td>2015.000000</td>\n",
       "      <td>22676.750000</td>\n",
       "      <td>5.000000</td>\n",
       "      <td>4.757500e+05</td>\n",
       "      <td>13.765795</td>\n",
       "      <td>10.722241</td>\n",
       "    </tr>\n",
       "    <tr>\n",
       "      <th>50%</th>\n",
       "      <td>488.500000</td>\n",
       "      <td>2017.000000</td>\n",
       "      <td>37570.500000</td>\n",
       "      <td>5.000000</td>\n",
       "      <td>6.665000e+05</td>\n",
       "      <td>14.102942</td>\n",
       "      <td>11.227119</td>\n",
       "    </tr>\n",
       "    <tr>\n",
       "      <th>75%</th>\n",
       "      <td>732.250000</td>\n",
       "      <td>2019.000000</td>\n",
       "      <td>57421.250000</td>\n",
       "      <td>5.000000</td>\n",
       "      <td>8.830000e+05</td>\n",
       "      <td>14.384228</td>\n",
       "      <td>11.651317</td>\n",
       "    </tr>\n",
       "    <tr>\n",
       "      <th>max</th>\n",
       "      <td>976.000000</td>\n",
       "      <td>2022.000000</td>\n",
       "      <td>99495.000000</td>\n",
       "      <td>8.000000</td>\n",
       "      <td>2.941000e+06</td>\n",
       "      <td>15.587407</td>\n",
       "      <td>12.201010</td>\n",
       "    </tr>\n",
       "  </tbody>\n",
       "</table>\n",
       "</div>"
      ],
      "text/plain": [
       "       Unnamed: 0    Make_Year   Mileage_Run  Seating_Capacity         Price  \\\n",
       "count  976.000000   976.000000    976.000000        976.000000  9.760000e+02   \n",
       "mean   488.500000  2016.963115  41571.195697          5.095287  7.410195e+05   \n",
       "std    281.891232     2.818742  24390.995134          0.446224  3.673234e+05   \n",
       "min      1.000000  2011.000000   1117.000000          4.000000  1.880000e+05   \n",
       "25%    244.750000  2015.000000  22676.750000          5.000000  4.757500e+05   \n",
       "50%    488.500000  2017.000000  37570.500000          5.000000  6.665000e+05   \n",
       "75%    732.250000  2019.000000  57421.250000          5.000000  8.830000e+05   \n",
       "max    976.000000  2022.000000  99495.000000          8.000000  2.941000e+06   \n",
       "\n",
       "        new_price  new_mileage  \n",
       "count  976.000000   976.000000  \n",
       "mean    14.104181    11.109435  \n",
       "std      0.450276     0.733389  \n",
       "min     12.837344     7.711549  \n",
       "25%     13.765795    10.722241  \n",
       "50%     14.102942    11.227119  \n",
       "75%     14.384228    11.651317  \n",
       "max     15.587407    12.201010  "
      ]
     },
     "execution_count": 9,
     "metadata": {},
     "output_type": "execute_result"
    }
   ],
   "source": [
    "# taking the arcsin of the price variable\n",
    "df['new_price'] =np.arcsinh(df['Price'])\n",
    "df['new_mileage'] = np.arcsinh(df['Mileage_Run'])\n",
    "df.describe()"
   ]
  },
  {
   "cell_type": "code",
   "execution_count": 10,
   "metadata": {},
   "outputs": [
    {
     "data": {
      "text/plain": [
       "<AxesSubplot:>"
      ]
     },
     "execution_count": 10,
     "metadata": {},
     "output_type": "execute_result"
    },
    {
     "data": {
      "image/png": "[encoded data removed]",
      "text/plain": [
       "<Figure size 432x288 with 1 Axes>"
      ]
     },
     "metadata": {
      "needs_background": "light"
     },
     "output_type": "display_data"
    }
   ],
   "source": [
    "df['new_price'].hist()"
   ]
  },
  {
   "cell_type": "code",
   "execution_count": 11,
   "metadata": {},
   "outputs": [
    {
     "data": {
      "text/plain": [
       "<AxesSubplot:>"
      ]
     },
     "execution_count": 11,
     "metadata": {},
     "output_type": "execute_result"
    },
    {
     "data": {
      "image/png": "[encoded data removed]",
      "text/plain": [
       "<Figure size 432x288 with 1 Axes>"
      ]
     },
     "metadata": {
      "needs_background": "light"
     },
     "output_type": "display_data"
    }
   ],
   "source": [
    "df['new_mileage'].hist()"
   ]
  },
  {
   "cell_type": "code",
   "execution_count": 12,
   "metadata": {},
   "outputs": [
    {
     "data": {
      "text/html": [
       "<div>\n",
       "<style scoped>\n",
       "    .dataframe tbody tr th:only-of-type {\n",
       "        vertical-align: middle;\n",
       "    }\n",
       "\n",
       "    .dataframe tbody tr th {\n",
       "        vertical-align: top;\n",
       "    }\n",
       "\n",
       "    .dataframe thead th {\n",
       "        text-align: right;\n",
       "    }\n",
       "</style>\n",
       "<table border=\"1\" class=\"dataframe\">\n",
       "  <thead>\n",
       "    <tr style=\"text-align: right;\">\n",
       "      <th></th>\n",
       "      <th>Unnamed: 0</th>\n",
       "      <th>Make_Year</th>\n",
       "      <th>Mileage_Run</th>\n",
       "      <th>Seating_Capacity</th>\n",
       "      <th>Price</th>\n",
       "      <th>new_price</th>\n",
       "      <th>new_mileage</th>\n",
       "      <th>age</th>\n",
       "    </tr>\n",
       "  </thead>\n",
       "  <tbody>\n",
       "    <tr>\n",
       "      <th>count</th>\n",
       "      <td>976.000000</td>\n",
       "      <td>976.000000</td>\n",
       "      <td>976.000000</td>\n",
       "      <td>976.000000</td>\n",
       "      <td>9.760000e+02</td>\n",
       "      <td>976.000000</td>\n",
       "      <td>976.000000</td>\n",
       "      <td>976.000000</td>\n",
       "    </tr>\n",
       "    <tr>\n",
       "      <th>mean</th>\n",
       "      <td>488.500000</td>\n",
       "      <td>2016.963115</td>\n",
       "      <td>41571.195697</td>\n",
       "      <td>5.095287</td>\n",
       "      <td>7.410195e+05</td>\n",
       "      <td>14.104181</td>\n",
       "      <td>11.109435</td>\n",
       "      <td>5.036885</td>\n",
       "    </tr>\n",
       "    <tr>\n",
       "      <th>std</th>\n",
       "      <td>281.891232</td>\n",
       "      <td>2.818742</td>\n",
       "      <td>24390.995134</td>\n",
       "      <td>0.446224</td>\n",
       "      <td>3.673234e+05</td>\n",
       "      <td>0.450276</td>\n",
       "      <td>0.733389</td>\n",
       "      <td>2.818742</td>\n",
       "    </tr>\n",
       "    <tr>\n",
       "      <th>min</th>\n",
       "      <td>1.000000</td>\n",
       "      <td>2011.000000</td>\n",
       "      <td>1117.000000</td>\n",
       "      <td>4.000000</td>\n",
       "      <td>1.880000e+05</td>\n",
       "      <td>12.837344</td>\n",
       "      <td>7.711549</td>\n",
       "      <td>0.000000</td>\n",
       "    </tr>\n",
       "    <tr>\n",
       "      <th>25%</th>\n",
       "      <td>244.750000</td>\n",
       "      <td>2015.000000</td>\n",
       "      <td>22676.750000</td>\n",
       "      <td>5.000000</td>\n",
       "      <td>4.757500e+05</td>\n",
       "      <td>13.765795</td>\n",
       "      <td>10.722241</td>\n",
       "      <td>3.000000</td>\n",
       "    </tr>\n",
       "    <tr>\n",
       "      <th>50%</th>\n",
       "      <td>488.500000</td>\n",
       "      <td>2017.000000</td>\n",
       "      <td>37570.500000</td>\n",
       "      <td>5.000000</td>\n",
       "      <td>6.665000e+05</td>\n",
       "      <td>14.102942</td>\n",
       "      <td>11.227119</td>\n",
       "      <td>5.000000</td>\n",
       "    </tr>\n",
       "    <tr>\n",
       "      <th>75%</th>\n",
       "      <td>732.250000</td>\n",
       "      <td>2019.000000</td>\n",
       "      <td>57421.250000</td>\n",
       "      <td>5.000000</td>\n",
       "      <td>8.830000e+05</td>\n",
       "      <td>14.384228</td>\n",
       "      <td>11.651317</td>\n",
       "      <td>7.000000</td>\n",
       "    </tr>\n",
       "    <tr>\n",
       "      <th>max</th>\n",
       "      <td>976.000000</td>\n",
       "      <td>2022.000000</td>\n",
       "      <td>99495.000000</td>\n",
       "      <td>8.000000</td>\n",
       "      <td>2.941000e+06</td>\n",
       "      <td>15.587407</td>\n",
       "      <td>12.201010</td>\n",
       "      <td>11.000000</td>\n",
       "    </tr>\n",
       "  </tbody>\n",
       "</table>\n",
       "</div>"
      ],
      "text/plain": [
       "       Unnamed: 0    Make_Year   Mileage_Run  Seating_Capacity         Price  \\\n",
       "count  976.000000   976.000000    976.000000        976.000000  9.760000e+02   \n",
       "mean   488.500000  2016.963115  41571.195697          5.095287  7.410195e+05   \n",
       "std    281.891232     2.818742  24390.995134          0.446224  3.673234e+05   \n",
       "min      1.000000  2011.000000   1117.000000          4.000000  1.880000e+05   \n",
       "25%    244.750000  2015.000000  22676.750000          5.000000  4.757500e+05   \n",
       "50%    488.500000  2017.000000  37570.500000          5.000000  6.665000e+05   \n",
       "75%    732.250000  2019.000000  57421.250000          5.000000  8.830000e+05   \n",
       "max    976.000000  2022.000000  99495.000000          8.000000  2.941000e+06   \n",
       "\n",
       "        new_price  new_mileage         age  \n",
       "count  976.000000   976.000000  976.000000  \n",
       "mean    14.104181    11.109435    5.036885  \n",
       "std      0.450276     0.733389    2.818742  \n",
       "min     12.837344     7.711549    0.000000  \n",
       "25%     13.765795    10.722241    3.000000  \n",
       "50%     14.102942    11.227119    5.000000  \n",
       "75%     14.384228    11.651317    7.000000  \n",
       "max     15.587407    12.201010   11.000000  "
      ]
     },
     "execution_count": 12,
     "metadata": {},
     "output_type": "execute_result"
    }
   ],
   "source": [
    "# transforming the year variable to age in order to have values more comparable to price and mileage\n",
    "df['age'] = max(df['Make_Year'])-df['Make_Year']\n",
    "df.describe()"
   ]
  },
  {
   "cell_type": "markdown",
   "metadata": {},
   "source": [
    "All numeric variables are now converted into comparable units to assist in accurate analyses"
   ]
  },
  {
   "cell_type": "markdown",
   "metadata": {},
   "source": [
    "2. Summarize the Price variable and create a kernel density plot. Use .groupby() and .describe() to summarize prices by brand (Make). Make a grouped kernel density plot by Make. Which car brands are the most expensive? What do prices look like in general?"
   ]
  },
  {
   "cell_type": "code",
   "execution_count": 13,
   "metadata": {},
   "outputs": [
    {
     "data": {
      "text/html": [
       "<div>\n",
       "<style scoped>\n",
       "    .dataframe tbody tr th:only-of-type {\n",
       "        vertical-align: middle;\n",
       "    }\n",
       "\n",
       "    .dataframe tbody tr th {\n",
       "        vertical-align: top;\n",
       "    }\n",
       "\n",
       "    .dataframe thead th {\n",
       "        text-align: right;\n",
       "    }\n",
       "</style>\n",
       "<table border=\"1\" class=\"dataframe\">\n",
       "  <thead>\n",
       "    <tr style=\"text-align: right;\">\n",
       "      <th></th>\n",
       "      <th>count</th>\n",
       "      <th>mean</th>\n",
       "      <th>std</th>\n",
       "      <th>min</th>\n",
       "      <th>25%</th>\n",
       "      <th>50%</th>\n",
       "      <th>75%</th>\n",
       "      <th>max</th>\n",
       "    </tr>\n",
       "    <tr>\n",
       "      <th>Make</th>\n",
       "      <th></th>\n",
       "      <th></th>\n",
       "      <th></th>\n",
       "      <th></th>\n",
       "      <th></th>\n",
       "      <th></th>\n",
       "      <th></th>\n",
       "      <th></th>\n",
       "    </tr>\n",
       "  </thead>\n",
       "  <tbody>\n",
       "    <tr>\n",
       "      <th>Chevrolet</th>\n",
       "      <td>6.0</td>\n",
       "      <td>13.613042</td>\n",
       "      <td>0.480975</td>\n",
       "      <td>13.188151</td>\n",
       "      <td>13.261539</td>\n",
       "      <td>13.445433</td>\n",
       "      <td>13.864828</td>\n",
       "      <td>14.394369</td>\n",
       "    </tr>\n",
       "    <tr>\n",
       "      <th>Datsun</th>\n",
       "      <td>3.0</td>\n",
       "      <td>13.269194</td>\n",
       "      <td>0.036311</td>\n",
       "      <td>13.232114</td>\n",
       "      <td>13.251449</td>\n",
       "      <td>13.270783</td>\n",
       "      <td>13.287734</td>\n",
       "      <td>13.304685</td>\n",
       "    </tr>\n",
       "    <tr>\n",
       "      <th>Ford</th>\n",
       "      <td>52.0</td>\n",
       "      <td>14.161427</td>\n",
       "      <td>0.210895</td>\n",
       "      <td>13.270783</td>\n",
       "      <td>14.054527</td>\n",
       "      <td>14.162640</td>\n",
       "      <td>14.269131</td>\n",
       "      <td>14.572571</td>\n",
       "    </tr>\n",
       "    <tr>\n",
       "      <th>Honda</th>\n",
       "      <td>73.0</td>\n",
       "      <td>14.229465</td>\n",
       "      <td>0.336972</td>\n",
       "      <td>13.356645</td>\n",
       "      <td>13.965653</td>\n",
       "      <td>14.266586</td>\n",
       "      <td>14.419827</td>\n",
       "      <td>14.938490</td>\n",
       "    </tr>\n",
       "    <tr>\n",
       "      <th>Hyundai</th>\n",
       "      <td>305.0</td>\n",
       "      <td>14.061658</td>\n",
       "      <td>0.398781</td>\n",
       "      <td>13.114331</td>\n",
       "      <td>13.785051</td>\n",
       "      <td>14.059241</td>\n",
       "      <td>14.330727</td>\n",
       "      <td>15.063692</td>\n",
       "    </tr>\n",
       "    <tr>\n",
       "      <th>Jeep</th>\n",
       "      <td>4.0</td>\n",
       "      <td>14.909738</td>\n",
       "      <td>0.105084</td>\n",
       "      <td>14.763300</td>\n",
       "      <td>14.876417</td>\n",
       "      <td>14.933413</td>\n",
       "      <td>14.966733</td>\n",
       "      <td>15.008827</td>\n",
       "    </tr>\n",
       "    <tr>\n",
       "      <th>Kia</th>\n",
       "      <td>8.0</td>\n",
       "      <td>14.985324</td>\n",
       "      <td>0.076877</td>\n",
       "      <td>14.822738</td>\n",
       "      <td>14.965389</td>\n",
       "      <td>14.996253</td>\n",
       "      <td>15.042662</td>\n",
       "      <td>15.063117</td>\n",
       "    </tr>\n",
       "    <tr>\n",
       "      <th>MG Motors</th>\n",
       "      <td>35.0</td>\n",
       "      <td>15.132199</td>\n",
       "      <td>0.066263</td>\n",
       "      <td>14.971763</td>\n",
       "      <td>15.088892</td>\n",
       "      <td>15.122762</td>\n",
       "      <td>15.190744</td>\n",
       "      <td>15.211260</td>\n",
       "    </tr>\n",
       "    <tr>\n",
       "      <th>Mahindra</th>\n",
       "      <td>18.0</td>\n",
       "      <td>14.592100</td>\n",
       "      <td>0.159906</td>\n",
       "      <td>14.280502</td>\n",
       "      <td>14.544955</td>\n",
       "      <td>14.598828</td>\n",
       "      <td>14.654396</td>\n",
       "      <td>14.890513</td>\n",
       "    </tr>\n",
       "    <tr>\n",
       "      <th>Maruti Suzuki</th>\n",
       "      <td>293.0</td>\n",
       "      <td>13.911280</td>\n",
       "      <td>0.371409</td>\n",
       "      <td>13.068963</td>\n",
       "      <td>13.619496</td>\n",
       "      <td>13.868103</td>\n",
       "      <td>14.239470</td>\n",
       "      <td>14.659661</td>\n",
       "    </tr>\n",
       "    <tr>\n",
       "      <th>Nissan</th>\n",
       "      <td>4.0</td>\n",
       "      <td>14.334341</td>\n",
       "      <td>0.392610</td>\n",
       "      <td>13.764217</td>\n",
       "      <td>14.230922</td>\n",
       "      <td>14.481870</td>\n",
       "      <td>14.585290</td>\n",
       "      <td>14.609408</td>\n",
       "    </tr>\n",
       "    <tr>\n",
       "      <th>Renault</th>\n",
       "      <td>68.0</td>\n",
       "      <td>14.044009</td>\n",
       "      <td>0.331717</td>\n",
       "      <td>13.260385</td>\n",
       "      <td>13.764211</td>\n",
       "      <td>14.068542</td>\n",
       "      <td>14.286754</td>\n",
       "      <td>14.660520</td>\n",
       "    </tr>\n",
       "    <tr>\n",
       "      <th>Skoda</th>\n",
       "      <td>5.0</td>\n",
       "      <td>14.334011</td>\n",
       "      <td>0.827046</td>\n",
       "      <td>13.678545</td>\n",
       "      <td>13.745088</td>\n",
       "      <td>13.888761</td>\n",
       "      <td>14.770252</td>\n",
       "      <td>15.587407</td>\n",
       "    </tr>\n",
       "    <tr>\n",
       "      <th>Tata</th>\n",
       "      <td>23.0</td>\n",
       "      <td>14.406552</td>\n",
       "      <td>0.615090</td>\n",
       "      <td>12.837344</td>\n",
       "      <td>14.259530</td>\n",
       "      <td>14.368246</td>\n",
       "      <td>14.944517</td>\n",
       "      <td>15.250595</td>\n",
       "    </tr>\n",
       "    <tr>\n",
       "      <th>Toyota</th>\n",
       "      <td>50.0</td>\n",
       "      <td>14.228654</td>\n",
       "      <td>0.360112</td>\n",
       "      <td>13.508985</td>\n",
       "      <td>13.864561</td>\n",
       "      <td>14.396608</td>\n",
       "      <td>14.531374</td>\n",
       "      <td>14.596669</td>\n",
       "    </tr>\n",
       "    <tr>\n",
       "      <th>Volkswagen</th>\n",
       "      <td>29.0</td>\n",
       "      <td>13.987889</td>\n",
       "      <td>0.203839</td>\n",
       "      <td>13.597355</td>\n",
       "      <td>13.896168</td>\n",
       "      <td>14.009431</td>\n",
       "      <td>14.150553</td>\n",
       "      <td>14.272935</td>\n",
       "    </tr>\n",
       "  </tbody>\n",
       "</table>\n",
       "</div>"
      ],
      "text/plain": [
       "               count       mean       std        min        25%        50%  \\\n",
       "Make                                                                         \n",
       "Chevrolet        6.0  13.613042  0.480975  13.188151  13.261539  13.445433   \n",
       "Datsun           3.0  13.269194  0.036311  13.232114  13.251449  13.270783   \n",
       "Ford            52.0  14.161427  0.210895  13.270783  14.054527  14.162640   \n",
       "Honda           73.0  14.229465  0.336972  13.356645  13.965653  14.266586   \n",
       "Hyundai        305.0  14.061658  0.398781  13.114331  13.785051  14.059241   \n",
       "Jeep             4.0  14.909738  0.105084  14.763300  14.876417  14.933413   \n",
       "Kia              8.0  14.985324  0.076877  14.822738  14.965389  14.996253   \n",
       "MG Motors       35.0  15.132199  0.066263  14.971763  15.088892  15.122762   \n",
       "Mahindra        18.0  14.592100  0.159906  14.280502  14.544955  14.598828   \n",
       "Maruti Suzuki  293.0  13.911280  0.371409  13.068963  13.619496  13.868103   \n",
       "Nissan           4.0  14.334341  0.392610  13.764217  14.230922  14.481870   \n",
       "Renault         68.0  14.044009  0.331717  13.260385  13.764211  14.068542   \n",
       "Skoda            5.0  14.334011  0.827046  13.678545  13.745088  13.888761   \n",
       "Tata            23.0  14.406552  0.615090  12.837344  14.259530  14.368246   \n",
       "Toyota          50.0  14.228654  0.360112  13.508985  13.864561  14.396608   \n",
       "Volkswagen      29.0  13.987889  0.203839  13.597355  13.896168  14.009431   \n",
       "\n",
       "                     75%        max  \n",
       "Make                                 \n",
       "Chevrolet      13.864828  14.394369  \n",
       "Datsun         13.287734  13.304685  \n",
       "Ford           14.269131  14.572571  \n",
       "Honda          14.419827  14.938490  \n",
       "Hyundai        14.330727  15.063692  \n",
       "Jeep           14.966733  15.008827  \n",
       "Kia            15.042662  15.063117  \n",
       "MG Motors      15.190744  15.211260  \n",
       "Mahindra       14.654396  14.890513  \n",
       "Maruti Suzuki  14.239470  14.659661  \n",
       "Nissan         14.585290  14.609408  \n",
       "Renault        14.286754  14.660520  \n",
       "Skoda          14.770252  15.587407  \n",
       "Tata           14.944517  15.250595  \n",
       "Toyota         14.531374  14.596669  \n",
       "Volkswagen     14.150553  14.272935  "
      ]
     },
     "execution_count": 13,
     "metadata": {},
     "output_type": "execute_result"
    }
   ],
   "source": [
    "df['new_price'].groupby(df[\"Make\"]).describe()"
   ]
  },
  {
   "cell_type": "code",
   "execution_count": 14,
   "metadata": {},
   "outputs": [
    {
     "data": {
      "text/plain": [
       "<AxesSubplot:xlabel='new_price', ylabel='Density'>"
      ]
     },
     "execution_count": 14,
     "metadata": {},
     "output_type": "execute_result"
    },
    {
     "data": {
      "image/png": "[encoded data removed]",
      "text/plain": [
       "<Figure size 432x288 with 1 Axes>"
      ]
     },
     "metadata": {
      "needs_background": "light"
     },
     "output_type": "display_data"
    }
   ],
   "source": [
    "#making the kernel density plot for the transformed price variable grouped by the make of the car\n",
    "var = \"new_price\"\n",
    "cat = \"Make\"\n",
    "\n",
    "sns.kdeplot(data = df, x = var, hue = cat)"
   ]
  },
  {
   "cell_type": "markdown",
   "metadata": {},
   "source": [
    " Which car brands are the most expensive? What do prices look like in general?\n",
    "  > Datsun and MG Motors have the msot expensive cars in this dataset. In general, prices are relatively similar and clumped around the same values. However, Hyundai and Maruti Suzuki have the most cars in this dataset and Hyundai has a relatively normal distribution of prices in the middle. Contrastingly, Maruti Suzuki has many cars on both extremes and is bimodal, indicating that their cars are either on the lower or higher side of prices. "
   ]
  },
  {
   "cell_type": "markdown",
   "metadata": {},
   "source": [
    "3 Split the data into an 80% training set and a 20% testing set."
   ]
  },
  {
   "cell_type": "code",
   "execution_count": 18,
   "metadata": {},
   "outputs": [
    {
     "ename": "AssertionError",
     "evalue": "End slice bound is non-scalar",
     "output_type": "error",
     "traceback": [
      "\u001b[0;31m---------------------------------------------------------------------------\u001b[0m",
      "\u001b[0;31mAssertionError\u001b[0m                            Traceback (most recent call last)",
      "\u001b[0;32m<ipython-input-18-1b510bce836e>\u001b[0m in \u001b[0;36m<module>\u001b[0;34m\u001b[0m\n\u001b[1;32m      1\u001b[0m \u001b[0;31m## Split the Sample into Training and Testing Sets\u001b[0m\u001b[0;34m\u001b[0m\u001b[0;34m\u001b[0m\u001b[0;34m\u001b[0m\u001b[0m\n\u001b[0;32m----> 2\u001b[0;31m X = df.loc[:[\"Make_Year\", \"Mileage_Run\", \"Seating_Capacity\", \"Price\", \"Make\", \"Color\", \"Body_Type\", \"No_of_Owners\", \n\u001b[0m\u001b[1;32m      3\u001b[0m       \"Fuel_Type\", \"Transmission\", \"Transmission_Type\"]]\n\u001b[1;32m      4\u001b[0m \u001b[0my\u001b[0m \u001b[0;34m=\u001b[0m \u001b[0mdf\u001b[0m\u001b[0;34m.\u001b[0m\u001b[0mloc\u001b[0m\u001b[0;34m[\u001b[0m\u001b[0;34m:\u001b[0m\u001b[0;34m[\u001b[0m\u001b[0;34m\"Price\"\u001b[0m\u001b[0;34m]\u001b[0m\u001b[0;34m]\u001b[0m\u001b[0;34m\u001b[0m\u001b[0;34m\u001b[0m\u001b[0m\n\u001b[1;32m      5\u001b[0m \u001b[0mX_train\u001b[0m\u001b[0;34m,\u001b[0m \u001b[0mX_test\u001b[0m\u001b[0;34m,\u001b[0m \u001b[0my_train\u001b[0m\u001b[0;34m,\u001b[0m \u001b[0my_test\u001b[0m \u001b[0;34m=\u001b[0m \u001b[0mtrain_test_split\u001b[0m\u001b[0;34m(\u001b[0m\u001b[0mX\u001b[0m\u001b[0;34m,\u001b[0m\u001b[0my\u001b[0m\u001b[0;34m,\u001b[0m\u001b[0mtest_size\u001b[0m\u001b[0;34m=\u001b[0m\u001b[0;36m.2\u001b[0m\u001b[0;34m,\u001b[0m\u001b[0mrandom_state\u001b[0m\u001b[0;34m=\u001b[0m\u001b[0;36m100\u001b[0m\u001b[0;34m)\u001b[0m\u001b[0;34m\u001b[0m\u001b[0;34m\u001b[0m\u001b[0m\n",
      "\u001b[0;32m/apps/software/standard/compiler/gcc/9.2.0/jupyter_conda/2020.11-py3.8/lib/python3.8/site-packages/pandas/core/indexing.py\u001b[0m in \u001b[0;36m__getitem__\u001b[0;34m(self, key)\u001b[0m\n\u001b[1;32m    877\u001b[0m \u001b[0;34m\u001b[0m\u001b[0m\n\u001b[1;32m    878\u001b[0m             \u001b[0mmaybe_callable\u001b[0m \u001b[0;34m=\u001b[0m \u001b[0mcom\u001b[0m\u001b[0;34m.\u001b[0m\u001b[0mapply_if_callable\u001b[0m\u001b[0;34m(\u001b[0m\u001b[0mkey\u001b[0m\u001b[0;34m,\u001b[0m \u001b[0mself\u001b[0m\u001b[0;34m.\u001b[0m\u001b[0mobj\u001b[0m\u001b[0;34m)\u001b[0m\u001b[0;34m\u001b[0m\u001b[0;34m\u001b[0m\u001b[0m\n\u001b[0;32m--> 879\u001b[0;31m             \u001b[0;32mreturn\u001b[0m \u001b[0mself\u001b[0m\u001b[0;34m.\u001b[0m\u001b[0m_getitem_axis\u001b[0m\u001b[0;34m(\u001b[0m\u001b[0mmaybe_callable\u001b[0m\u001b[0;34m,\u001b[0m \u001b[0maxis\u001b[0m\u001b[0;34m=\u001b[0m\u001b[0maxis\u001b[0m\u001b[0;34m)\u001b[0m\u001b[0;34m\u001b[0m\u001b[0;34m\u001b[0m\u001b[0m\n\u001b[0m\u001b[1;32m    880\u001b[0m \u001b[0;34m\u001b[0m\u001b[0m\n\u001b[1;32m    881\u001b[0m     \u001b[0;32mdef\u001b[0m \u001b[0m_is_scalar_access\u001b[0m\u001b[0;34m(\u001b[0m\u001b[0mself\u001b[0m\u001b[0;34m,\u001b[0m \u001b[0mkey\u001b[0m\u001b[0;34m:\u001b[0m \u001b[0mTuple\u001b[0m\u001b[0;34m)\u001b[0m\u001b[0;34m:\u001b[0m\u001b[0;34m\u001b[0m\u001b[0;34m\u001b[0m\u001b[0m\n",
      "\u001b[0;32m/apps/software/standard/compiler/gcc/9.2.0/jupyter_conda/2020.11-py3.8/lib/python3.8/site-packages/pandas/core/indexing.py\u001b[0m in \u001b[0;36m_getitem_axis\u001b[0;34m(self, key, axis)\u001b[0m\n\u001b[1;32m   1086\u001b[0m         \u001b[0;32mif\u001b[0m \u001b[0misinstance\u001b[0m\u001b[0;34m(\u001b[0m\u001b[0mkey\u001b[0m\u001b[0;34m,\u001b[0m \u001b[0mslice\u001b[0m\u001b[0;34m)\u001b[0m\u001b[0;34m:\u001b[0m\u001b[0;34m\u001b[0m\u001b[0;34m\u001b[0m\u001b[0m\n\u001b[1;32m   1087\u001b[0m             \u001b[0mself\u001b[0m\u001b[0;34m.\u001b[0m\u001b[0m_validate_key\u001b[0m\u001b[0;34m(\u001b[0m\u001b[0mkey\u001b[0m\u001b[0;34m,\u001b[0m \u001b[0maxis\u001b[0m\u001b[0;34m)\u001b[0m\u001b[0;34m\u001b[0m\u001b[0;34m\u001b[0m\u001b[0m\n\u001b[0;32m-> 1088\u001b[0;31m             \u001b[0;32mreturn\u001b[0m \u001b[0mself\u001b[0m\u001b[0;34m.\u001b[0m\u001b[0m_get_slice_axis\u001b[0m\u001b[0;34m(\u001b[0m\u001b[0mkey\u001b[0m\u001b[0;34m,\u001b[0m \u001b[0maxis\u001b[0m\u001b[0;34m=\u001b[0m\u001b[0maxis\u001b[0m\u001b[0;34m)\u001b[0m\u001b[0;34m\u001b[0m\u001b[0;34m\u001b[0m\u001b[0m\n\u001b[0m\u001b[1;32m   1089\u001b[0m         \u001b[0;32melif\u001b[0m \u001b[0mcom\u001b[0m\u001b[0;34m.\u001b[0m\u001b[0mis_bool_indexer\u001b[0m\u001b[0;34m(\u001b[0m\u001b[0mkey\u001b[0m\u001b[0;34m)\u001b[0m\u001b[0;34m:\u001b[0m\u001b[0;34m\u001b[0m\u001b[0;34m\u001b[0m\u001b[0m\n\u001b[1;32m   1090\u001b[0m             \u001b[0;32mreturn\u001b[0m \u001b[0mself\u001b[0m\u001b[0;34m.\u001b[0m\u001b[0m_getbool_axis\u001b[0m\u001b[0;34m(\u001b[0m\u001b[0mkey\u001b[0m\u001b[0;34m,\u001b[0m \u001b[0maxis\u001b[0m\u001b[0;34m=\u001b[0m\u001b[0maxis\u001b[0m\u001b[0;34m)\u001b[0m\u001b[0;34m\u001b[0m\u001b[0;34m\u001b[0m\u001b[0m\n",
      "\u001b[0;32m/apps/software/standard/compiler/gcc/9.2.0/jupyter_conda/2020.11-py3.8/lib/python3.8/site-packages/pandas/core/indexing.py\u001b[0m in \u001b[0;36m_get_slice_axis\u001b[0;34m(self, slice_obj, axis)\u001b[0m\n\u001b[1;32m   1120\u001b[0m \u001b[0;34m\u001b[0m\u001b[0m\n\u001b[1;32m   1121\u001b[0m         \u001b[0mlabels\u001b[0m \u001b[0;34m=\u001b[0m \u001b[0mobj\u001b[0m\u001b[0;34m.\u001b[0m\u001b[0m_get_axis\u001b[0m\u001b[0;34m(\u001b[0m\u001b[0maxis\u001b[0m\u001b[0;34m)\u001b[0m\u001b[0;34m\u001b[0m\u001b[0;34m\u001b[0m\u001b[0m\n\u001b[0;32m-> 1122\u001b[0;31m         indexer = labels.slice_indexer(\n\u001b[0m\u001b[1;32m   1123\u001b[0m             \u001b[0mslice_obj\u001b[0m\u001b[0;34m.\u001b[0m\u001b[0mstart\u001b[0m\u001b[0;34m,\u001b[0m \u001b[0mslice_obj\u001b[0m\u001b[0;34m.\u001b[0m\u001b[0mstop\u001b[0m\u001b[0;34m,\u001b[0m \u001b[0mslice_obj\u001b[0m\u001b[0;34m.\u001b[0m\u001b[0mstep\u001b[0m\u001b[0;34m,\u001b[0m \u001b[0mkind\u001b[0m\u001b[0;34m=\u001b[0m\u001b[0;34m\"loc\"\u001b[0m\u001b[0;34m\u001b[0m\u001b[0;34m\u001b[0m\u001b[0m\n\u001b[1;32m   1124\u001b[0m         )\n",
      "\u001b[0;32m/apps/software/standard/compiler/gcc/9.2.0/jupyter_conda/2020.11-py3.8/lib/python3.8/site-packages/pandas/core/indexes/base.py\u001b[0m in \u001b[0;36mslice_indexer\u001b[0;34m(self, start, end, step, kind)\u001b[0m\n\u001b[1;32m   4970\u001b[0m             \u001b[0;32mraise\u001b[0m \u001b[0mAssertionError\u001b[0m\u001b[0;34m(\u001b[0m\u001b[0;34m\"Start slice bound is non-scalar\"\u001b[0m\u001b[0;34m)\u001b[0m\u001b[0;34m\u001b[0m\u001b[0;34m\u001b[0m\u001b[0m\n\u001b[1;32m   4971\u001b[0m         \u001b[0;32mif\u001b[0m \u001b[0;32mnot\u001b[0m \u001b[0mis_scalar\u001b[0m\u001b[0;34m(\u001b[0m\u001b[0mend_slice\u001b[0m\u001b[0;34m)\u001b[0m\u001b[0;34m:\u001b[0m\u001b[0;34m\u001b[0m\u001b[0;34m\u001b[0m\u001b[0m\n\u001b[0;32m-> 4972\u001b[0;31m             \u001b[0;32mraise\u001b[0m \u001b[0mAssertionError\u001b[0m\u001b[0;34m(\u001b[0m\u001b[0;34m\"End slice bound is non-scalar\"\u001b[0m\u001b[0;34m)\u001b[0m\u001b[0;34m\u001b[0m\u001b[0;34m\u001b[0m\u001b[0m\n\u001b[0m\u001b[1;32m   4973\u001b[0m \u001b[0;34m\u001b[0m\u001b[0m\n\u001b[1;32m   4974\u001b[0m         \u001b[0;32mreturn\u001b[0m \u001b[0mslice\u001b[0m\u001b[0;34m(\u001b[0m\u001b[0mstart_slice\u001b[0m\u001b[0;34m,\u001b[0m \u001b[0mend_slice\u001b[0m\u001b[0;34m,\u001b[0m \u001b[0mstep\u001b[0m\u001b[0;34m)\u001b[0m\u001b[0;34m\u001b[0m\u001b[0;34m\u001b[0m\u001b[0m\n",
      "\u001b[0;31mAssertionError\u001b[0m: End slice bound is non-scalar"
     ]
    }
   ],
   "source": [
    "## Split the Sample into Training and Testing Sets\n",
    "X = df.loc[:[\"Make_Year\", \"Mileage_Run\", \"Seating_Capacity\", \"Price\", \"Make\", \"Color\", \"Body_Type\", \"No_of_Owners\", \n",
    "      \"Fuel_Type\", \"Transmission\", \"Transmission_Type\"]]\n",
    "y = df.loc[:[\"Price\"]]\n",
    "X_train, X_test, y_train, y_test = train_test_split(X,y,test_size=.2,random_state=100)"
   ]
  },
  {
   "cell_type": "markdown",
   "metadata": {},
   "source": [
    "**Q2.** The is a question about regression using decision trees and linear models. The data include wages at data science-y jobs, including\n",
    "\n",
    "  - `Rating`: Company worker happiness score\n",
    "  - `Size`: Number of employees\n",
    "  - `Sector`: Part of the economy\n",
    "  - `avg_salary`: Average wage\n",
    "  - `job_state`: Location of work\n",
    "\n",
    "  1. Load the `wages_hw.csv` file. Split the sample into an ~80% training set and a ~20% test set. Do any necessary cleaning, including outliers and missings.\n",
    "  2. Use a linear model to regress `avg_salary` on `Sector`. Which sectors have the highest predicted wages? What is the $R^2$ and `RMSE` on the test set? \n",
    "  3. Make a scatterplot of `avg_salary` and `Rating`. Is there an obvious visual relationship between the two variables? Regress `avg_salary` on `Rating` as a numeric variable: Do higher ratings predict higher or lower wages? Convert `Rating` to a one-hot encoded variable, with a category for each rating. Run a regression of `avg_salary` on the categorical version. How do your results change? Explain. Which version has a higher $R^2$ and lower `RMSE`?\n",
    "  4. Now interact `Sector` with the categorical version of `Rating`, so your regressors are a (Sector, Rating) pair; this is a programming puzzle you'll have to think about, but using the `.PolynomialFeatures()` function on the one-hot encoded categorical variables is one option, and another is pre-processing a new variable that interacts `Sector` and `Rating` and then one-hot encoding the result. Regress `avg_salary` on the (Sector, Rating) pairs. How does the $R^2$ and `RMSE` on the test set compare to part 2? Interpret the coefficients; which sector-rating pairs have the highest wages?\n",
    "  5. Run a linear regression of `avg_salary` on all the variables. What is the $R^2$ on the test set? How does it compare to your simpler models in 2--4? \n",
    "  6. Build a decision tree by regressing `avg_salary` on `Sector`, `Rating`, and the (Sector, Rating) pairs. What are the $R^2$ and `RMSE` of your models on the test set? How do your answers compare to parts 2, 3, and 4?\n",
    "  7. Build a decision tree by regressing `avg_salary` on all the other variables. What is the $R^2$ and `RMSE` on the test set?\n",
    "  8. Build a linear regression or decision tree using the available variables based on your own judgment. What degrees of freedom are you giving the model to predict variation in wages across company and location attributes? What is the $R^2$ and `RMSE` of your model? How does it compare to the previous ones in the question? Why does yours perform better or worse on the test set?"
   ]
  },
  {
   "cell_type": "markdown",
   "metadata": {},
   "source": [
    "**Q3.** This a question purely on categorical prediction. The data for this happen to be gathered in 1987 in Indonesia, and concern contraceptive method choice. The questions and data-gathering assumptions reflect the culture and attitudes of that time and place, but provide a good example of a categorical prediction problem on an important topic (family planning and maternal health The variables in the data are:\n",
    "\n",
    "    - Wife's age (numerical)\n",
    "    - Wife's education (categorical) 1=low, 2, 3, 4=high \n",
    "    - Husband's education (categorical) 1=low, 2, 3, 4=high \n",
    "    - Number of children ever born (numerical) \n",
    "    - Wife's religion (binary) 0=Non-Islam, 1=Islam\n",
    "    - Wife's now working? (binary) 0=Yes, 1=No\n",
    "    - Husband's occupation (categorical) 1, 2, 3, 4\n",
    "    - Standard-of-living index (categorical) 1=low, 2, 3, 4=high\n",
    "    - Media exposure (binary) 0=Good, 1=Not good\n",
    "    - Contraceptive method used (class attribute) 1=No-use, 2=Long-term, 3=Short-termhort-term\n",
    "\n",
    "  1. Load the `contraceptiveMethodChoice.csv` data. Tabulate the `method` variable (i.e. `.value_counts()`). 1 corresponds to `No Contraception`, 3 corresponds to `Short Term` (e.g. condoms, birth control pills), and 2 corresponds to `Long Term` (e.g. IUD, sterilization). Cross tabulate `method` and `numberChildren`. Do couples that use birth control tend to have more children than those who don't?\n",
    "  2. Split the sample into ~80% training data and ~20% testing data.\n",
    "  3. We are now going to make a mistake. Train a regression tree to predict the contraceptive method using the other variables in the data, not a classification tree. Look at the terminal nodes in the tree: What values do they take? Does that make sense? Explain clearly what has gone wrong here.\n",
    "  4. Instead of regression, use a classification tree to predict contraceptive method using the other variables in the data. How does it look different from the previous tree? What variables does the algorithm use? In broad terms, which groups of people are most likely to use each method of contraception?\n",
    "  5. Compute a confusion matrix for your classification tree on the test set (Hint: There are now three categories instead of two, so the cross tabulation will be a $3 \\times 3$ matrix instead of $2 \\times 2$.). Compute the Accuracy of your model overall, and the Accuracy for predicting each contraceptive method.\n",
    "  7. Why can't you use a linear probability model to do this exercise? Explain clearly in words."
   ]
  },
  {
   "cell_type": "markdown",
   "metadata": {},
   "source": [
    "**Q4.** This is a question where we use regression and regression trees. The outcome is whether a defendant is held pre-trial in the Virginia justice system. We would like to understand how that outcome is predicted by characteristics of the defendant, particularly race. Let's be very careful/clear: We aren't saying anyone *should* be held without bond or asserting that people with different demographic variables *should* be more likely to be held, but instead trying to predict whether people with different characteristics *are empirically more likely* to be held without bond, given the available information. This is the first step we would take in investigating whether a system is fair, or how large the disparities are: Does it treat people with similar observable characteristics similarly, or not? We are going to look at a common question: Are Black defendants treated differently from white or Asian ones? (There are Native American defendants, but there are 11 in total, which is such a small number of observations that is difficult to clearly say anything about how this group is treated relative to the others.)\n",
    "\n",
    "The variables in the data are:\n",
    "\n",
    "  - `held_wo_bail`: Whether a defendant is held without bail before trial (Boolean logical)\n",
    "  - `race`, `sex`: Categorical demographic variables\n",
    "  - `is_poor`: Whether the defendant is classified as indigent \n",
    "  - `prior_F`, `prior_M`: The number of prior felony and misdemeanor arrests\n",
    "  - `case_type`: A categorical variable indicating a misdemeanor `M` or felony `F` or infraction `I` or special case `S`\n",
    "  - `age`: Defendant's age\n",
    "  - `bond`, `bond_NA`, `bond_type`: The amount of any bond, whether it is missing, and the type\n",
    "  - `sentence`, `sentence_NA`, `sentence_type`: The length of any sentence, whether it is missing, and the type\n",
    "\n",
    "1. Load the `pretrial_data.csv` data. Notice that there are `nan`s, but the data are relatively clean. Because there are `.nan`s among variables you won't use, you'll want to narrow down your analysis to the relevant variables before dropping or imputing missing values.\n",
    "2. Create a dummy variable indicating that the defendant is Black.\n",
    "3. Regress `held` on `Black`. What is the slope coefficient Interpret the coefficient on the Black dummy variable: How much more likely is a black person to be held without bail? What is the $R^2$ of the model?\n",
    "4. Before doing this question, please think for a few minutes about how to make the process of running these regressions as efficient as possible, before jumping into writing code. Repeat part 2, for the following specifications, keeping track of the coefficient on the Black dummy variable each time:\n",
    "      - `held` on `Black` and `sex`\n",
    "      - `held` on `Black` and `sex` and `is_poor`\n",
    "      - `held` on `Black` and `sex` and `is_poor` and `prior_F`\n",
    "      - `held` on `Black` and `sex` and `is_poor` and `prior_F` and `case_type`\n",
    "What happens to the coefficient on the Black dummy variable as you include more regressors/features/controls in the regression? Explain your findings.\n",
    "5. Suppose we don't want to see just `Black` and `sex`, but `Black` interacted with `sex`: Are Black men and Black women treated systemically differently from the rest of the population? Implement this in a regression, and explain your findings.\n",
    "6. Imagine someone argued we should use these kinds of models to help a judge or magistrate make bail decisions (you could obviously go back and make this kind of model for the bond and sentence variables, then deploy it on new cases to predict what their bond and sentence values would be). What concerns would you have? Do you think society should be using data-driven and automated tools like that? Explain your concerns clearly."
   ]
  },
  {
   "cell_type": "markdown",
   "metadata": {},
   "source": [
    "**Q5.** This is a math question to review the derivation of the OLS estimator (but only if you are into that kind of thing!). We are going to do it slightly differently from what we did in class, though. We will use a linear predictor and minimize the Sum of Squared Errors, just as in class. But, we are going to de-mean $X$ first, creating another variable $z_i = x_i - \\bar{x}$ where \n",
    "$$\n",
    "\\bar{x} = \\dfrac{1}{N} \\sum_{i=1}^N x_i,\n",
    "$$\n",
    "so the model is $\\hat{y}_i = a + b z_i$ and the `SSE` is\n",
    "$$\n",
    "\\text{SSE}(a,b) = \\sum_{i=1}^N (y_i - a - bz_i)^2.\n",
    "$$\n",
    "\n",
    "  1. Take partial derivatives of the `SSE` with respect to $a$ and $b$. You should get\n",
    "\n",
    "\\begin{eqnarray*}\n",
    "\\sum_{i=1}^N -2(y_i - a- bz_i) &=& 0 \\\\\n",
    "\\sum_{i=1}^N -2(y_i - a - bz_i)z_i &=& 0.\n",
    "\\end{eqnarray*}\n",
    "\n",
    "  2. Solve for the solutions to the above equations. Big hint: $\\bar{z} = 0$, since we subtracted the mean of $x$ from $x$ to get $z$. You should get\n",
    "\n",
    "\\begin{eqnarray*}\n",
    "a^* &=& \\bar{y} \\\\\n",
    "b^* &=& \\dfrac{\\sum_{i=1}^N(y_i - \\bar{y})z_i}{\\sum_{i=1}^N z_i^2}.\n",
    "\\end{eqnarray*}\n",
    "\n",
    "  3. Substitute $z_i = x_i - \\bar{x}$ back into the above equations. You should get\n",
    "  \n",
    "\\begin{eqnarray*}\n",
    "a^* &=& \\bar{y} \\\\\n",
    "b^* &=& \\dfrac{\\sum_{i=1}^N(y_i - \\bar{y})(x_i-\\bar{x})}{\\sum_{i=1}^N (x_i-\\bar{x})^2},\n",
    "\\end{eqnarray*}\n",
    "\n",
    "which can be written in terms of sample covariance and sample variance as:\n",
    "\n",
    "\\begin{eqnarray*}\n",
    "a^* &=& \\bar{y} \\\\\n",
    "b^* &=& \\dfrac{\\text{cov}(x,y)}{\\text{var}(x)}.\n",
    "\\end{eqnarray*}\n",
    "\n",
    "This is typically the preferred way of expressing the OLS coefficients.\n",
    "\n",
    "4. When will $b^*$ be large or small, depending on the relationship between $x$ and $y$ and the amount of \"noise\"/variance in $x$? What does $a^*$ represent?\n",
    "5. Suppose you have measurement error in $x$ which artificially inflates its variance (e.g. bad data cleaning). What happens to the $b^*$ coefficient? How will affect your ability to predict? (This phenomenon is called **attenuation**.)\n",
    "6. Let's return to the question of *outliers*. With your formula for the OLS coefficients $(a^*,b^*)$, explain what happens if you significantly increase a single value of the outcome/target/response variable $y_i$ or one of the predictor/explanatory/covariate variables $x_i$. If values for some extreme observations are exerting significant influence over the regression coefficients, will the model perform well on for more average observations?"
   ]
  }
 ],
 "metadata": {
  "kernelspec": {
   "display_name": "Python 3",
   "language": "python",
   "name": "python3"
  },
  "language_info": {
   "codemirror_mode": {
    "name": "ipython",
    "version": 3
   },
   "file_extension": ".py",
   "mimetype": "text/x-python",
   "name": "python",
   "nbconvert_exporter": "python",
   "pygments_lexer": "ipython3",
   "version": "3.8.8"
  }
 },
 "nbformat": 4,
 "nbformat_minor": 5
}
